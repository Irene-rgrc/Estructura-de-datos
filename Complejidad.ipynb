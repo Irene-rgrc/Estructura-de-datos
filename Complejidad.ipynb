{
  "nbformat": 4,
  "nbformat_minor": 0,
  "metadata": {
    "colab": {
      "name": "Complejidad",
      "provenance": [],
      "collapsed_sections": []
    },
    "kernelspec": {
      "display_name": "Python 3",
      "name": "python3"
    }
  },
  "cells": [
    {
      "cell_type": "code",
      "metadata": {
        "colab": {
          "base_uri": "https://localhost:8080/"
        },
        "id": "Y0nejrOPjI6F",
        "outputId": "32a62a29-ff3f-447e-e084-33c1bcb59770"
      },
      "source": [
        "import altair as alt\n",
        "import pandas as pd\n",
        "import numpy as np\n",
        "import random as rd\n",
        "import time\n",
        "\n",
        "alt.data_transformers.disable_max_rows()"
      ],
      "execution_count": 6,
      "outputs": [
        {
          "output_type": "execute_result",
          "data": {
            "text/plain": [
              "DataTransformerRegistry.enable('default')"
            ]
          },
          "metadata": {},
          "execution_count": 6
        }
      ]
    },
    {
      "cell_type": "markdown",
      "source": [
        "## **La sucesión de Fibonacci**\n",
        "\n",
        "Esta sucesión fue descrita por primera vez por Leonardo de Pisa y se trata de una secuencia infinita de números naturales. Se define a partir de dos valores base (0 y 1) y el resto de computa haciendo la suma de los dos anteriores. Así:\n",
        "\n",
        "Fibonacci(0) = 0\n",
        "\n",
        "Fibonacci(1) = 1\n",
        "\n",
        "Fibonacci(2) = Fibonacci(0) + Fibonacci(1) = 0 + 1 = 1\n",
        "\n",
        "Fibonacci(3) = Fibonacci(1) + Fibonacci(2) = 1 + Fibonacci(0) + Fibonacci(1) = 1 + 0 + 1 = 2\n",
        "\n",
        "Fibonacci(4) = Fibonacci(2) + Fibonacci(3) = ... = 5\n",
        "\n",
        "...\n",
        "\n",
        "Fibonacci(N) = Fibonacci(N-2) + Fibonacci(N-1)\n",
        "\n",
        "![Fibonacci.jpg](data:image/jpeg;base64,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)\n",
        "\n",
        "En este ejercicio veremos diferentes manera de calcular el enésimo número de fibonacci y evaluaremos su complejidad."
      ],
      "metadata": {
        "id": "AGuG04Ez-nTS"
      }
    },
    {
      "cell_type": "markdown",
      "source": [
        "# **Método Recursivo**\n",
        "\n",
        "La primera implementación que probaremos consistirá en un función recursiva con dos casos bases (n=0 y n=1) y que llamrá a fibonacci(n-1) y fibonacci(n-2) para calcular fibonacci(n)."
      ],
      "metadata": {
        "id": "TSO8HM8F849O"
      }
    },
    {
      "cell_type": "code",
      "source": [
        "def fibonacci(n):\n",
        "  # IMPLEMENTAR"
      ],
      "metadata": {
        "id": "ReB1WFUj-MYo"
      },
      "execution_count": null,
      "outputs": []
    },
    {
      "cell_type": "markdown",
      "source": [
        "A continuación, mediremos empiricamente como varia el tiempo en función de N:"
      ],
      "metadata": {
        "id": "3L0QuDP7EG7m"
      }
    },
    {
      "cell_type": "code",
      "source": [
        "for i in range(30):\n",
        "  # IMPLEMENTAR  \n",
        "  print(\"El número de Fibonacci en posición \" + str(i+1) + \" es \" + str(0) + \" y se ha calculado en \" + str(0) + \" segundos.\")"
      ],
      "metadata": {
        "id": "MPIM4Wv_Bt8R"
      },
      "execution_count": null,
      "outputs": []
    },
    {
      "cell_type": "markdown",
      "source": [
        "Otra manera de evaluar la complejidad de una función de manera empírica puede ser contar el número de operaciones que se realizan. A continuación, implementaremos una versión de la función de fibonacci que retorna tanto el enésimo número de fibonacci como el número de operaciones realizadas."
      ],
      "metadata": {
        "id": "OYZeTFG3EZyv"
      }
    },
    {
      "cell_type": "code",
      "source": [
        "def fibonacci_con_coste(n):\n",
        "  # IMPLEMENTAR  "
      ],
      "metadata": {
        "id": "o9_YGE03DxP8"
      },
      "execution_count": null,
      "outputs": []
    },
    {
      "cell_type": "code",
      "source": [
        "tallas = []\n",
        "costes = []\n",
        "tiempos = []\n",
        "algoritmos = [] \n",
        "for i in range(30):\n",
        "  # IMPLEMENTAR  \n",
        "  print(\"El número de Fibonacci en posición \" + str(i+1) + \" es \" + str(0) + \" y se ha calculado en \" + str(0) + \" segundos para \" + str(0) + \" operaciones.\")"
      ],
      "metadata": {
        "id": "RtOY9eOUEBWv"
      },
      "execution_count": null,
      "outputs": []
    },
    {
      "cell_type": "markdown",
      "source": [
        "# **Analizar el tiempo de ejecución**\n",
        "\n",
        "A continuación definiremos un conjunto de funciones que nos serán útiles para visualizar los tiempos empíricos de ejecución. Para ellos, usaremos la librería de Python llamada Altair."
      ],
      "metadata": {
        "id": "AutQcMgpBxt2"
      }
    },
    {
      "cell_type": "code",
      "source": [
        "def crear_graficos(tallas, costes, tiempos , algoritmos):\n",
        "  df = pd.DataFrame({\"Talla\" : tallas, \"Coste\" : costes, \"Tiempo\" : tiempos, \"Algoritmo\" : algoritmos})\n",
        "\n",
        "  composed_chart = alt.HConcatChart()\n",
        "  for algoritmo in list(set(algoritmos)):\n",
        "    chart = alt.Chart(df).transform_filter( alt.datum.Algoritmo == algoritmo)\n",
        "    composed_chart &= chart.mark_line().encode(\n",
        "        y=alt.Y(\"Tiempo:Q\"),\n",
        "        x=alt.X(\"Talla:Q\"),\n",
        "        color=\"Algoritmo:N\",\n",
        "        tooltip=['Talla', 'Tiempo', 'Coste']\n",
        "    ) | chart.mark_line().encode(\n",
        "        y=alt.Y(\"Coste:Q\"),\n",
        "        x=alt.X(\"Talla:Q\"),\n",
        "        color=\"Algoritmo:N\",\n",
        "        tooltip=['Talla', 'Tiempo', 'Coste']\n",
        "    ) | chart.mark_line().encode(\n",
        "        y=alt.Y(\"Tiempo:Q\"),\n",
        "        x=alt.X(\"Coste:Q\"),\n",
        "        color=\"Algoritmo:N\",\n",
        "        tooltip=['Talla', 'Tiempo', 'Coste']\n",
        "    )\n",
        "  return composed_chart"
      ],
      "metadata": {
        "id": "U8NuYVfdl9lU"
      },
      "execution_count": null,
      "outputs": []
    },
    {
      "cell_type": "code",
      "source": [
        "crear_graficos(tallas, costes, tiempos, algoritmos)"
      ],
      "metadata": {
        "id": "hzGCDQj4CYlH"
      },
      "execution_count": null,
      "outputs": []
    },
    {
      "cell_type": "markdown",
      "source": [
        "# **Método Lineal**\n",
        "\n",
        "Si analizamos el método recursivo, podemos ver que varias operaciones se están calculando de manera repetida:\n",
        "\n",
        "Fibonacci(0) = 0\n",
        "\n",
        "Fibonacci(1) = 1\n",
        "\n",
        "Fibonacci(2) = Fibonacci(0) + Fibonacci(1) = 0 + 1 = 1\n",
        "\n",
        "Fibonacci(3) = Fibonacci(1) + Fibonacci(2) = Fibonacci(1) + Fibonacci(0) + Fibonacci(1)\n",
        "\n",
        "...\n",
        "\n",
        "Por ejemplo, podemos ver que la función recursiva para estimar Fibonacci(3) calcula Fibonacci(1) dos veces. Una manera de mejorar la eficiencia del cómputo es evitar hacer cálculos repetidos almacenando los valores de la función de Fibonacci calculados previamene. A esta estrategia se la conoce como \"memoization\".\n",
        "\n",
        "A continuación, implementaremos una versión lineal del cálculo de la sucesión de Fibonacci que almacenará los valores previamente computados para evitar cálculos repetidos."
      ],
      "metadata": {
        "id": "pUAAF68jFoA_"
      }
    },
    {
      "cell_type": "code",
      "source": [
        "def fibonacci_lineal(n):\n",
        "  # IMPLEMENTAR  "
      ],
      "metadata": {
        "id": "uHi60MYx-5aK"
      },
      "execution_count": null,
      "outputs": []
    },
    {
      "cell_type": "code",
      "source": [
        "A continuación, mediremos empiricamente como varia el tiempo en función de N:"
      ],
      "metadata": {
        "id": "7YVlN2iZTkhd"
      },
      "execution_count": null,
      "outputs": []
    },
    {
      "cell_type": "code",
      "source": [
        "for i in range(300):\n",
        "  print(\"El número de Fibonacci en posición \" + str(i+1) + \" es \" + str(0) + \" y se ha calculado en \" + str(0) + \" segundos para \" + str(0) + \" operaciones.\")"
      ],
      "metadata": {
        "id": "SkrjUJNq_hTT"
      },
      "execution_count": null,
      "outputs": []
    }
  ]
}
